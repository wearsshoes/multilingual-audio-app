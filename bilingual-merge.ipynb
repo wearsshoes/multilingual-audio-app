{
 "cells": [
  {
   "cell_type": "code",
   "execution_count": null,
   "metadata": {},
   "outputs": [],
   "source": [
    "import os\n",
    "import concurrent.futures\n",
    "import json\n",
    "import hashlib\n",
    "from dotenv import load_dotenv\n",
    "from openai import OpenAI\n",
    "from deepgram import (\n",
    "    DeepgramClient,\n",
    "    PrerecordedOptions,\n",
    "    FileSource,\n",
    ")\n",
    "from languages import LANGUAGES\n",
    "\n",
    "\n",
    "# Load environment variables\n",
    "load_dotenv()"
   ]
  },
  {
   "cell_type": "code",
   "execution_count": null,
   "metadata": {},
   "outputs": [],
   "source": [
    "CACHE_FILE = 'cache.json'\n",
    "\n",
    "def load_cache():\n",
    "    try:\n",
    "        with open(CACHE_FILE, 'r') as file:\n",
    "            return json.load(file)\n",
    "    except (FileNotFoundError, json.JSONDecodeError):\n",
    "        return {}  # Return an empty dictionary if the file doesn't exist or if an error occurs\n",
    "\n",
    "def save_cache(cache):\n",
    "    with open(CACHE_FILE, 'w') as file:\n",
    "        json.dump(cache, file, indent=4)\n"
   ]
  }
 ],
 "metadata": {
  "language_info": {
   "name": "python"
  }
 },
 "nbformat": 4,
 "nbformat_minor": 2
}
