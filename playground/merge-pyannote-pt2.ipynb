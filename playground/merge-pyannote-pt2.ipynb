{
 "cells": [
  {
   "cell_type": "code",
   "execution_count": 69,
   "id": "34611a63-8e6a-4c18-bfd5-f0c8a7f4374e",
   "metadata": {
    "editable": true,
    "slideshow": {
     "slide_type": ""
    },
    "tags": []
   },
   "outputs": [],
   "source": [
    "import json\n",
    "from IPython.display import Markdown, display"
   ]
  },
  {
   "cell_type": "code",
   "execution_count": 84,
   "id": "40c723b2-5ea6-4b9f-83e0-c8799af3e0bb",
   "metadata": {
    "editable": true,
    "slideshow": {
     "slide_type": ""
    },
    "tags": []
   },
   "outputs": [],
   "source": [
    "# Load files\n",
    "\n",
    "with open('ar-en-short_pyannote.json', 'r') as f:\n",
    "    pyannote_data = json.load(f)\n",
    "\n",
    "with open('whisper_en.json', 'r') as f:\n",
    "    whisper_en_data = json.load(f)\n",
    "\n",
    "with open('whisper_ar.json', 'r') as f:\n",
    "    whisper_ar_data = json.load(f)"
   ]
  },
  {
   "cell_type": "code",
   "execution_count": 87,
   "id": "be31f89a-1253-40ec-9fdc-8e2a60887ffb",
   "metadata": {},
   "outputs": [
    {
     "name": "stdout",
     "output_type": "stream",
     "text": [
      "[{'speaker_id': 'SPEAKER_02', 'onset': 2.963, 'duration': 15.806999999999999}, {'speaker_id': 'SPEAKER_01', 'onset': 19.601, 'duration': 4.652}, {'speaker_id': 'SPEAKER_00', 'onset': 25.34, 'duration': 17.844}, {'speaker_id': 'SPEAKER_01', 'onset': 44.304, 'duration': 26.519000000000005}, {'speaker_id': 'SPEAKER_02', 'onset': 72.148, 'duration': 6.620999999999995}, {'speaker_id': 'SPEAKER_01', 'onset': 79.346, 'duration': 5.195}, {'speaker_id': 'SPEAKER_00', 'onset': 85.696, 'duration': 41.155}, {'speaker_id': 'SPEAKER_01', 'onset': 128.175, 'duration': 51.22300000000001}, {'speaker_id': 'SPEAKER_02', 'onset': 180.823, 'duration': 15.688}, {'speaker_id': 'SPEAKER_01', 'onset': 197.105, 'duration': 22.496}, {'speaker_id': 'SPEAKER_00', 'onset': 220.45, 'duration': 28.420999999999992}, {'speaker_id': 'SPEAKER_01', 'onset': 249.363, 'duration': 59.23599999999999}, {'speaker_id': 'SPEAKER_00', 'onset': 309.584, 'duration': 8.098}, {'speaker_id': 'SPEAKER_01', 'onset': 309.652, 'duration': 0.255}, {'speaker_id': 'SPEAKER_00', 'onset': 317.92, 'duration': 21.391999999999996}, {'speaker_id': 'SPEAKER_01', 'onset': 336.121, 'duration': 47.555000000000064}, {'speaker_id': 'SPEAKER_02', 'onset': 386.528, 'duration': 4.464999999999975}]\n"
     ]
    }
   ],
   "source": [
    "merged_data = []\n",
    "previous_turn = None\n",
    "\n",
    "for turn in pyannote_data:\n",
    "    speaker_id = turn['speaker_id']\n",
    "    onset = turn['onset']\n",
    "    duration = turn['duration']\n",
    "\n",
    "    if previous_turn and previous_turn['speaker_id'] == speaker_id:\n",
    "        # If the current speaker is the same as the previous speaker,\n",
    "        # merge the current turn into the previous one by extending the end time.\n",
    "        previous_turn['duration'] = onset + duration - previous_turn['onset']\n",
    "    else:\n",
    "        # If the current speaker is different from the previous speaker,\n",
    "        # add the previous turn to the merged_data list and set the current turn as the new previous_turn.\n",
    "        if previous_turn:\n",
    "            merged_data.append(previous_turn)\n",
    "        previous_turn = {'speaker_id': speaker_id, 'onset': onset, 'duration': duration}\n",
    "\n",
    "# Add the last turn to the merged_data list\n",
    "if previous_turn:\n",
    "    merged_data.append(previous_turn)\n",
    "\n",
    "# Print or use the merged_data list as needed\n",
    "print(merged_data)"
   ]
  },
  {
   "cell_type": "code",
   "execution_count": 92,
   "id": "8f75a0f7-92d3-4372-bf47-1692c8b7cc16",
   "metadata": {
    "editable": true,
    "slideshow": {
     "slide_type": ""
    },
    "tags": []
   },
   "outputs": [],
   "source": [
    "# Iterate over the Pyannote speaker turns\n",
    "timeline = []\n",
    "\n",
    "for turn in merged_data:\n",
    "    start_time = turn['onset']\n",
    "    end_time = turn['onset'] + turn['duration']\n",
    "    speaker_id = turn['speaker_id']\n",
    "\n",
    "    # Create lists to store the English and Arabic words for the current turn\n",
    "    en_words = []\n",
    "    ar_words = []\n",
    "\n",
    "    # Find the English words that fall within the current speaker turn\n",
    "    for word in whisper_en_data['words']:\n",
    "        if word['start'] >= start_time and word['end'] <= end_time:\n",
    "            en_words.append(word)\n",
    "\n",
    "    # Find the Arabic words that fall within the current speaker turn\n",
    "    for word in whisper_ar_data['words']:\n",
    "        if word['start'] >= start_time and word['end'] <= end_time:\n",
    "            ar_words.append(word)\n",
    "\n",
    "    # Create separate segments for English and Arabic if both are present\n",
    "    if en_words and ar_words:\n",
    "        # Create an English segment\n",
    "        en_start_time = min(word['start'] for word in en_words)\n",
    "        en_end_time = max(word['end'] for word in en_words)\n",
    "        en_segment = {\n",
    "            'start_time': en_start_time,\n",
    "            'end_time': en_end_time,\n",
    "            'speaker_id': speaker_id,\n",
    "            'language': 'en',\n",
    "            'words': en_words,\n",
    "            'overlapping': True\n",
    "        }\n",
    "        timeline.append(en_segment)\n",
    "\n",
    "        # Create an Arabic segment\n",
    "        ar_start_time = min(word['start'] for word in ar_words)\n",
    "        ar_end_time = max(word['end'] for word in ar_words)\n",
    "        ar_segment = {\n",
    "            'start_time': ar_start_time,\n",
    "            'end_time': ar_end_time,\n",
    "            'speaker_id': speaker_id,\n",
    "            'language': 'ar',\n",
    "            'words': ar_words,\n",
    "            'overlapping': True\n",
    "        }\n",
    "        timeline.append(ar_segment)\n",
    "    else:\n",
    "        # Create a single segment for the turn\n",
    "        language = 'en' if en_words else 'ar'\n",
    "        words = en_words if en_words else ar_words\n",
    "        segment = {\n",
    "            'start_time': start_time,\n",
    "            'end_time': end_time,\n",
    "            'speaker_id': speaker_id,\n",
    "            'language': language,\n",
    "            'words': words,\n",
    "            'overlapping': False\n",
    "        }\n",
    "        timeline.append(segment)"
   ]
  },
  {
   "cell_type": "code",
   "execution_count": 93,
   "id": "c963dcd2-876a-4c89-adaa-dcde13be986f",
   "metadata": {
    "editable": true,
    "slideshow": {
     "slide_type": ""
    },
    "tags": []
   },
   "outputs": [
    {
     "data": {
      "text/markdown": [
       "<span style='color:None'>**Speaker 2, Start: 2.963, End: 18.77**</span>"
      ],
      "text/plain": [
       "<IPython.core.display.Markdown object>"
      ]
     },
     "metadata": {},
     "output_type": "display_data"
    },
    {
     "data": {
      "text/markdown": [
       "<span style='color:None'>  Okay so then if we can start again my question next is so what does the economic office in particular have to offer to women in this area</span>"
      ],
      "text/plain": [
       "<IPython.core.display.Markdown object>"
      ]
     },
     "metadata": {},
     "output_type": "display_data"
    },
    {
     "name": "stdout",
     "output_type": "stream",
     "text": [
      "\n"
     ]
    },
    {
     "data": {
      "text/markdown": [
       "<span style='color:None'>**Speaker 1, Start: 19.601, End: 24.253**</span>"
      ],
      "text/plain": [
       "<IPython.core.display.Markdown object>"
      ]
     },
     "metadata": {},
     "output_type": "display_data"
    },
    {
     "data": {
      "text/markdown": [
       "<span style='color:None'>  يقدر لجنة الاقتصاد تقدم لنساء هذه</span>"
      ],
      "text/plain": [
       "<IPython.core.display.Markdown object>"
      ]
     },
     "metadata": {},
     "output_type": "display_data"
    },
    {
     "name": "stdout",
     "output_type": "stream",
     "text": [
      "\n"
     ]
    },
    {
     "data": {
      "text/markdown": [
       "<span style='color:None'>**Speaker 0, Start: 25.3799991607666, End: 35.91999816894531**</span>"
      ],
      "text/plain": [
       "<IPython.core.display.Markdown object>"
      ]
     },
     "metadata": {},
     "output_type": "display_data"
    },
    {
     "data": {
      "text/markdown": [
       "<span style='color:red'>  So in</span>"
      ],
      "text/plain": [
       "<IPython.core.display.Markdown object>"
      ]
     },
     "metadata": {},
     "output_type": "display_data"
    },
    {
     "name": "stdout",
     "output_type": "stream",
     "text": [
      "\n"
     ]
    },
    {
     "data": {
      "text/markdown": [
       "<span style='color:None'>**Speaker 0, Start: 25.860000610351562, End: 42.70000076293945**</span>"
      ],
      "text/plain": [
       "<IPython.core.display.Markdown object>"
      ]
     },
     "metadata": {},
     "output_type": "display_data"
    },
    {
     "data": {
      "text/markdown": [
       "<span style='color:red'>  النساء الموجودة في هذه المقاطعات هي نساء حرمت حقها بالتعليم حرمت حقها بممارسة حقوقها الطبيعية ضمن شراع المجتمع فنحن من خلال المشاريع البداية الصغيرة اللي عم نفعلها عم نضم هاي النساء لحتى يكونوا من المستفيدين ضمن هاي</span>"
      ],
      "text/plain": [
       "<IPython.core.display.Markdown object>"
      ]
     },
     "metadata": {},
     "output_type": "display_data"
    },
    {
     "name": "stdout",
     "output_type": "stream",
     "text": [
      "\n"
     ]
    },
    {
     "data": {
      "text/markdown": [
       "<span style='color:None'>**Speaker 1, Start: 46.939998626708984, End: 70.76000213623047**</span>"
      ],
      "text/plain": [
       "<IPython.core.display.Markdown object>"
      ]
     },
     "metadata": {},
     "output_type": "display_data"
    },
    {
     "data": {
      "text/markdown": [
       "<span style='color:red'>  women in our society were deprived of access to education They were deprived of having access to the right to being educated or being independent economically or having their own business so one of the things that we started to do was to provide some basic economical project for them so we can like enhance the culture of women having their independent economy</span>"
      ],
      "text/plain": [
       "<IPython.core.display.Markdown object>"
      ]
     },
     "metadata": {},
     "output_type": "display_data"
    },
    {
     "name": "stdout",
     "output_type": "stream",
     "text": [
      "\n"
     ]
    },
    {
     "data": {
      "text/markdown": [
       "<span style='color:None'>**Speaker 1, Start: 45.47999954223633, End: 70.63999938964844**</span>"
      ],
      "text/plain": [
       "<IPython.core.display.Markdown object>"
      ]
     },
     "metadata": {},
     "output_type": "display_data"
    },
    {
     "data": {
      "text/markdown": [
       "<span style='color:red'>  نساء في مجتمعنا كانوا مغلقين من الحصول على حقوق والتعليم والاستقرار بشكل اقتصادي والتعامل بشركتهم فأحد الأشياء التي بدأنا فيها كانت تقدم بعض المشروعات الاقتصادية لكي نستطيع تحسين الثقافة للنساء عندما يكون لها اقتصاد اقتصادي</span>"
      ],
      "text/plain": [
       "<IPython.core.display.Markdown object>"
      ]
     },
     "metadata": {},
     "output_type": "display_data"
    },
    {
     "name": "stdout",
     "output_type": "stream",
     "text": [
      "\n"
     ]
    },
    {
     "data": {
      "text/markdown": [
       "<span style='color:None'>**Speaker 2, Start: 72.22000122070312, End: 78.68000030517578**</span>"
      ],
      "text/plain": [
       "<IPython.core.display.Markdown object>"
      ]
     },
     "metadata": {},
     "output_type": "display_data"
    },
    {
     "data": {
      "text/markdown": [
       "<span style='color:red'>  Okay what did that program teach or if there are multiple which things did they teach</span>"
      ],
      "text/plain": [
       "<IPython.core.display.Markdown object>"
      ]
     },
     "metadata": {},
     "output_type": "display_data"
    },
    {
     "name": "stdout",
     "output_type": "stream",
     "text": [
      "\n"
     ]
    },
    {
     "data": {
      "text/markdown": [
       "<span style='color:None'>**Speaker 2, Start: 73.68000030517578, End: 77.9800033569336**</span>"
      ],
      "text/plain": [
       "<IPython.core.display.Markdown object>"
      ]
     },
     "metadata": {},
     "output_type": "display_data"
    },
    {
     "data": {
      "text/markdown": [
       "<span style='color:red'>  ماذا تعلم هذا البرنامج؟ او اذا كان هناك عديد من المشاريع اي شيء</span>"
      ],
      "text/plain": [
       "<IPython.core.display.Markdown object>"
      ]
     },
     "metadata": {},
     "output_type": "display_data"
    },
    {
     "name": "stdout",
     "output_type": "stream",
     "text": [
      "\n"
     ]
    },
    {
     "data": {
      "text/markdown": [
       "<span style='color:None'>**Speaker 0, Start: 85.696, End: 126.851**</span>"
      ],
      "text/plain": [
       "<IPython.core.display.Markdown object>"
      ]
     },
     "metadata": {},
     "output_type": "display_data"
    },
    {
     "data": {
      "text/markdown": [
       "<span style='color:None'>  مثل الاراضي الزراعية انه هاي النساء ترجع لهم هاي الزراعة ترجع هي تبلش بمشاريعها فهاي النساء اقتمدت على ذاتها وتعلمت حب الاستقلالية بحكم هاي المقاطعات المرأة ما تكون صاحبة ملك ما تكون صاحبة ميراث ما في عندها سند تستند عليه بهاي الظروف المعيشية الصعبة فهاي النساء اقتمدت على حالها بتحقيق افتفاقها الذاتي من خلال نشاطها العمل المستمر في هاي</span>"
      ],
      "text/plain": [
       "<IPython.core.display.Markdown object>"
      ]
     },
     "metadata": {},
     "output_type": "display_data"
    },
    {
     "name": "stdout",
     "output_type": "stream",
     "text": [
      "\n"
     ]
    },
    {
     "data": {
      "text/markdown": [
       "<span style='color:None'>**Speaker 1, Start: 129.39999389648438, End: 179.32000732421875**</span>"
      ],
      "text/plain": [
       "<IPython.core.display.Markdown object>"
      ]
     },
     "metadata": {},
     "output_type": "display_data"
    },
    {
     "data": {
      "text/markdown": [
       "<span style='color:red'>  via these economical projects women could have a big opportunity to become more independent economically and financially and also they now are aware and they know they can have something have a business themselves We know women in our society were deprived of inheriting their family heritage were Society didn't trust women in business because they said women cannot run a business but now it's different We see now women are working on their private projects whether patisserie whether kindergarten whether bakeries and other projects that were allocated for women only like for women business</span>"
      ],
      "text/plain": [
       "<IPython.core.display.Markdown object>"
      ]
     },
     "metadata": {},
     "output_type": "display_data"
    },
    {
     "name": "stdout",
     "output_type": "stream",
     "text": [
      "\n"
     ]
    },
    {
     "data": {
      "text/markdown": [
       "<span style='color:None'>**Speaker 1, Start: 129.13999938964844, End: 179.25999450683594**</span>"
      ],
      "text/plain": [
       "<IPython.core.display.Markdown object>"
      ]
     },
     "metadata": {},
     "output_type": "display_data"
    },
    {
     "data": {
      "text/markdown": [
       "<span style='color:red'>  من خلال هذه المشاريع الاقتمادية كانت النساء بمجرد تحقيق افتفاقها تحقيق الانتقالات الاجتماعية والفنانية وانها اعتقدت انها تستطيع تصنع شركة وتعرف أنها تستطيع ان تكون لها شركة تستطيع ان تكون لها شركة نحن نعرف ان النساء في مجتمعنا نحن مغازون من تستطيع إنهاء مجتمعهم نحن مغازون من تصنع مجتمعهم لم يثق المجتمع بالمجتمع لأنهم قالوا ان النساء لا يستطيعون ان تصنع مجتمع ولكن الان الامر مختلف نرى الان ان النساء تعمل على مشروعات خاصة مثل المطبخ والمطبخات والمطبخات والمشروعات الاخرى التي كانت مجموعة للنساء مثل المشروعات</span>"
      ],
      "text/plain": [
       "<IPython.core.display.Markdown object>"
      ]
     },
     "metadata": {},
     "output_type": "display_data"
    },
    {
     "name": "stdout",
     "output_type": "stream",
     "text": [
      "\n"
     ]
    },
    {
     "data": {
      "text/markdown": [
       "<span style='color:None'>**Speaker 2, Start: 181.02000427246094, End: 196.4600067138672**</span>"
      ],
      "text/plain": [
       "<IPython.core.display.Markdown object>"
      ]
     },
     "metadata": {},
     "output_type": "display_data"
    },
    {
     "data": {
      "text/markdown": [
       "<span style='color:red'>  things that you need to teach women in order to run their own business are these mostly practical things They need to learn the skills or is it like they need to learn negotiation with the community so that the community doesn't you know that will allow them to run this</span>"
      ],
      "text/plain": [
       "<IPython.core.display.Markdown object>"
      ]
     },
     "metadata": {},
     "output_type": "display_data"
    },
    {
     "name": "stdout",
     "output_type": "stream",
     "text": [
      "\n"
     ]
    },
    {
     "data": {
      "text/markdown": [
       "<span style='color:None'>**Speaker 2, Start: 181.4199981689453, End: 196.1199951171875**</span>"
      ],
      "text/plain": [
       "<IPython.core.display.Markdown object>"
      ]
     },
     "metadata": {},
     "output_type": "display_data"
    },
    {
     "data": {
      "text/markdown": [
       "<span style='color:red'>  التي تحتاجها لتعليمها للنساء لتنظيم مجتمعها هل هذه الأشياء مجموعة للنساء هل تحتاجها لتعلم المهارات او هل تحتاجها لتعلم التنافس مع المجتمع لكي لا يسمح للمجتمع بالتنظيم</span>"
      ],
      "text/plain": [
       "<IPython.core.display.Markdown object>"
      ]
     },
     "metadata": {},
     "output_type": "display_data"
    },
    {
     "name": "stdout",
     "output_type": "stream",
     "text": [
      "\n"
     ]
    },
    {
     "data": {
      "text/markdown": [
       "<span style='color:None'>**Speaker 1, Start: 197.105, End: 219.601**</span>"
      ],
      "text/plain": [
       "<IPython.core.display.Markdown object>"
      ]
     },
     "metadata": {},
     "output_type": "display_data"
    },
    {
     "data": {
      "text/markdown": [
       "<span style='color:None'>  او هل تحتاجها لتعلم التعاطي مع المجتمع لكي يتقبل المجتمع أن النساء لديهم مشاريع تجارية</span>"
      ],
      "text/plain": [
       "<IPython.core.display.Markdown object>"
      ]
     },
     "metadata": {},
     "output_type": "display_data"
    },
    {
     "name": "stdout",
     "output_type": "stream",
     "text": [
      "\n"
     ]
    },
    {
     "data": {
      "text/markdown": [
       "<span style='color:None'>**Speaker 0, Start: 220.45, End: 248.87099999999998**</span>"
      ],
      "text/plain": [
       "<IPython.core.display.Markdown object>"
      ]
     },
     "metadata": {},
     "output_type": "display_data"
    },
    {
     "data": {
      "text/markdown": [
       "<span style='color:None'>  الموجود في حاله كان سابقاً ذهني الداعش موجودا من بداية التحرير ورافض لفكرة عمل المرأة في المجالات ان كان بالتجارة ان كان في المجالات الصناعية على هذه الكافة الأصعدة لم يتقبل وجود المرأة من خلال أننا عملنا دورات مهنية مثل تعليم خياطة المرأة يجب أن تكون مستقلة يجب أن تكون معيلة نفسها شروحات المجتمع صار في تقبل عمل المرأة ضمن هذا المجال</span>"
      ],
      "text/plain": [
       "<IPython.core.display.Markdown object>"
      ]
     },
     "metadata": {},
     "output_type": "display_data"
    },
    {
     "name": "stdout",
     "output_type": "stream",
     "text": [
      "\n"
     ]
    },
    {
     "data": {
      "text/markdown": [
       "<span style='color:None'>**Speaker 1, Start: 249.8800048828125, End: 308.55999755859375**</span>"
      ],
      "text/plain": [
       "<IPython.core.display.Markdown object>"
      ]
     },
     "metadata": {},
     "output_type": "display_data"
    },
    {
     "data": {
      "text/markdown": [
       "<span style='color:red'>  in our society the idea of women business wasn't accepted and especially after ISIS time like ISIS enhanced this idea that women should stay at their houses and only take care of their families and not to get out of their houses So it was really hard to change this mentality to tell the society that women also are capable women can run their own business women are even like more successful sometimes when they are running their business professionally We started with giving training for women like practical training regarding how to for example cook how to do like coiffer work how to do the sewing work and like as time passed this idea became more acceptable by the society because women now they are helping their society even with the money they earn</span>"
      ],
      "text/plain": [
       "<IPython.core.display.Markdown object>"
      ]
     },
     "metadata": {},
     "output_type": "display_data"
    },
    {
     "name": "stdout",
     "output_type": "stream",
     "text": [
      "\n"
     ]
    },
    {
     "data": {
      "text/markdown": [
       "<span style='color:None'>**Speaker 1, Start: 250.22000122070312, End: 307.67999267578125**</span>"
      ],
      "text/plain": [
       "<IPython.core.display.Markdown object>"
      ]
     },
     "metadata": {},
     "output_type": "display_data"
    },
    {
     "data": {
      "text/markdown": [
       "<span style='color:red'>  مجتمعنا لم يتقبل فكرة عمل المرأة خاصة بعد وقت الإسس مثل أن الإسس تحسن هذه الفكرة بأن المرأة يجب أن تبقى في منازلها وأن تعتني فقط بعائلتها ولا تخرج من منازلها لذلك كان صعبا جدا تغيير هذه الفكرة وإخبار المجتمع بأن المرأة أيضا قادرة يمكنها أن تقوم بعملها نفسها المرأة أصبح أكثر مهنية في بعض الأحيان عندما تقوم بعملها بشكل مهني بدأنا بإعطاء تدريجية للمرأة تدريجية فعالية بشأن كيفية كيفية عمل كويفر كيفية عمل التدريج وكيفية عمل التدريج وعندما تنتهي الوقت أصبحت هذه الفكرة أكثر مقبولة من المجتمع لأن المرأة الآن تساعد المجتمع حتى بمالهم</span>"
      ],
      "text/plain": [
       "<IPython.core.display.Markdown object>"
      ]
     },
     "metadata": {},
     "output_type": "display_data"
    },
    {
     "name": "stdout",
     "output_type": "stream",
     "text": [
      "\n"
     ]
    },
    {
     "data": {
      "text/markdown": [
       "<span style='color:None'>**Speaker 0, Start: 340.8800048828125, End: 336.5199890136719**</span>"
      ],
      "text/plain": [
       "<IPython.core.display.Markdown object>"
      ]
     },
     "metadata": {},
     "output_type": "display_data"
    },
    {
     "data": {
      "text/markdown": [
       "<span style='color:red'>  even</span>"
      ],
      "text/plain": [
       "<IPython.core.display.Markdown object>"
      ]
     },
     "metadata": {},
     "output_type": "display_data"
    },
    {
     "name": "stdout",
     "output_type": "stream",
     "text": [
      "\n"
     ]
    },
    {
     "data": {
      "text/markdown": [
       "<span style='color:None'>**Speaker 0, Start: 326.1400146484375, End: 339.0400085449219**</span>"
      ],
      "text/plain": [
       "<IPython.core.display.Markdown object>"
      ]
     },
     "metadata": {},
     "output_type": "display_data"
    },
    {
     "data": {
      "text/markdown": [
       "<span style='color:red'>  مطبخices الحشاء好啦我們的 رفاق ينضموا للتدريج لأخذ الحق أو في المجالات لذلك نحب تعوض الأمر بشكل ما leep في م gros</span>"
      ],
      "text/plain": [
       "<IPython.core.display.Markdown object>"
      ]
     },
     "metadata": {},
     "output_type": "display_data"
    },
    {
     "name": "stdout",
     "output_type": "stream",
     "text": [
      "\n"
     ]
    },
    {
     "data": {
      "text/markdown": [
       "<span style='color:None'>**Speaker 1, Start: 336.5199890136719, End: 383.4800109863281**</span>"
      ],
      "text/plain": [
       "<IPython.core.display.Markdown object>"
      ]
     },
     "metadata": {},
     "output_type": "display_data"
    },
    {
     "data": {
      "text/markdown": [
       "<span style='color:red'>  And even we have discovered that women are really active in some specific business that are very popular here For example the Saj bread which is very famous and popular here it belongs to the culture of this region Now women have more than one patisserie or bakery that are making this kind of bread and also women who are working in agricultural lands and doing the harvesting and working in the lands it's very popular here and they have proven that they are able to do this So here we encouraged women in engaging in business and we also covered the needs of the society for the work that they are doing and the services they are providing</span>"
      ],
      "text/plain": [
       "<IPython.core.display.Markdown object>"
      ]
     },
     "metadata": {},
     "output_type": "display_data"
    },
    {
     "name": "stdout",
     "output_type": "stream",
     "text": [
      "\n"
     ]
    },
    {
     "data": {
      "text/markdown": [
       "<span style='color:None'>**Speaker 1, Start: 336.5199890136719, End: 382.9200134277344**</span>"
      ],
      "text/plain": [
       "<IPython.core.display.Markdown object>"
      ]
     },
     "metadata": {},
     "output_type": "display_data"
    },
    {
     "data": {
      "text/markdown": [
       "<span style='color:red'>  نحب تعوض الأمر بشكل ما leep في م gros لنöhة وفق ان اك animate ان يقدم</span>"
      ],
      "text/plain": [
       "<IPython.core.display.Markdown object>"
      ]
     },
     "metadata": {},
     "output_type": "display_data"
    },
    {
     "name": "stdout",
     "output_type": "stream",
     "text": [
      "\n"
     ]
    },
    {
     "data": {
      "text/markdown": [
       "<span style='color:None'>**Speaker 2, Start: 387.1600036621094, End: 390.9599914550781**</span>"
      ],
      "text/plain": [
       "<IPython.core.display.Markdown object>"
      ]
     },
     "metadata": {},
     "output_type": "display_data"
    },
    {
     "data": {
      "text/markdown": [
       "<span style='color:red'>  obviously as people understand that you're capable of doing this</span>"
      ],
      "text/plain": [
       "<IPython.core.display.Markdown object>"
      ]
     },
     "metadata": {},
     "output_type": "display_data"
    },
    {
     "name": "stdout",
     "output_type": "stream",
     "text": [
      "\n"
     ]
    },
    {
     "data": {
      "text/markdown": [
       "<span style='color:None'>**Speaker 2, Start: 386.760009765625, End: 389.3800048828125**</span>"
      ],
      "text/plain": [
       "<IPython.core.display.Markdown object>"
      ]
     },
     "metadata": {},
     "output_type": "display_data"
    },
    {
     "data": {
      "text/markdown": [
       "<span style='color:red'>  كما تفهم الناس</span>"
      ],
      "text/plain": [
       "<IPython.core.display.Markdown object>"
      ]
     },
     "metadata": {},
     "output_type": "display_data"
    },
    {
     "name": "stdout",
     "output_type": "stream",
     "text": [
      "\n"
     ]
    }
   ],
   "source": [
    "# Print the resulting timeline\n",
    "def printmd(string, color=None):\n",
    "    colorstr = \"<span style='color:{}'>{}</span>\".format(color, string)\n",
    "    display(Markdown(colorstr))\n",
    "\n",
    "for turn in timeline:\n",
    "    if len(turn['words']) == 0:\n",
    "        continue\n",
    "    printmd(\"**\" + f\"Speaker {turn['speaker_id'][-1]}, Start: {turn['start_time']}, End: {turn['end_time']}\" + \"**\")\n",
    "    toprint = (\"  \" + \" \".join(word['word'] \n",
    "        for word in turn['words']))\n",
    "    if turn['overlapping'] == True:\n",
    "        printmd(toprint, color=\"red\")\n",
    "    else:\n",
    "        printmd(toprint)\n",
    "    print()"
   ]
  },
  {
   "cell_type": "code",
   "execution_count": null,
   "id": "627f301f-d7d9-4368-a63f-2cc8ba51d770",
   "metadata": {
    "editable": true,
    "slideshow": {
     "slide_type": ""
    },
    "tags": []
   },
   "outputs": [],
   "source": []
  }
 ],
 "metadata": {
  "kernelspec": {
   "display_name": "Python 3 (ipykernel)",
   "language": "python",
   "name": "python3"
  },
  "language_info": {
   "codemirror_mode": {
    "name": "ipython",
    "version": 3
   },
   "file_extension": ".py",
   "mimetype": "text/x-python",
   "name": "python",
   "nbconvert_exporter": "python",
   "pygments_lexer": "ipython3",
   "version": "3.10.12"
  }
 },
 "nbformat": 4,
 "nbformat_minor": 5
}
